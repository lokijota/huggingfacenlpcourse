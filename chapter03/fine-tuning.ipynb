{
 "cells": [
  {
   "attachments": {},
   "cell_type": "markdown",
   "metadata": {},
   "source": [
    "# Fine-tuning a model with the Trainer API"
   ]
  },
  {
   "cell_type": "code",
   "execution_count": 1,
   "metadata": {},
   "outputs": [
    {
     "name": "stderr",
     "output_type": "stream",
     "text": [
      "Found cached dataset glue (C:/Users/joamart/.cache/huggingface/datasets/glue/mrpc/1.0.0/dacbe3125aa31d7f70367a07a8a9e72a5a0bfeb5fc42e75c9db75b96da6053ad)\n"
     ]
    },
    {
     "data": {
      "application/vnd.jupyter.widget-view+json": {
       "model_id": "036f6288647d45dca0e1893e23180645",
       "version_major": 2,
       "version_minor": 0
      },
      "text/plain": [
       "  0%|          | 0/3 [00:00<?, ?it/s]"
      ]
     },
     "metadata": {},
     "output_type": "display_data"
    },
    {
     "name": "stderr",
     "output_type": "stream",
     "text": [
      "Loading cached processed dataset at C:\\Users\\joamart\\.cache\\huggingface\\datasets\\glue\\mrpc\\1.0.0\\dacbe3125aa31d7f70367a07a8a9e72a5a0bfeb5fc42e75c9db75b96da6053ad\\cache-5137f2fb4737d116.arrow\n",
      "Loading cached processed dataset at C:\\Users\\joamart\\.cache\\huggingface\\datasets\\glue\\mrpc\\1.0.0\\dacbe3125aa31d7f70367a07a8a9e72a5a0bfeb5fc42e75c9db75b96da6053ad\\cache-60ba0ce5ca5c6a38.arrow\n",
      "Loading cached processed dataset at C:\\Users\\joamart\\.cache\\huggingface\\datasets\\glue\\mrpc\\1.0.0\\dacbe3125aa31d7f70367a07a8a9e72a5a0bfeb5fc42e75c9db75b96da6053ad\\cache-b26904918f30dd5d.arrow\n"
     ]
    }
   ],
   "source": [
    "# code from previous section, as we'll need the variables\n",
    "\n",
    "from datasets import load_dataset\n",
    "from transformers import AutoTokenizer, DataCollatorWithPadding\n",
    "\n",
    "raw_datasets = load_dataset(\"glue\", \"mrpc\")\n",
    "checkpoint = \"bert-base-uncased\"\n",
    "tokenizer = AutoTokenizer.from_pretrained(checkpoint)\n",
    "\n",
    "\n",
    "def tokenize_function(example):\n",
    "    return tokenizer(example[\"sentence1\"], example[\"sentence2\"], truncation=True)\n",
    "\n",
    "\n",
    "tokenized_datasets = raw_datasets.map(tokenize_function, batched=True)\n",
    "data_collator = DataCollatorWithPadding(tokenizer=tokenizer)"
   ]
  },
  {
   "cell_type": "code",
   "execution_count": 22,
   "metadata": {},
   "outputs": [
    {
     "data": {
      "text/plain": [
       "{'sentence1': \"Yucaipa owned Dominick 's before selling the chain to Safeway in 1998 for $ 2.5 billion .\",\n",
       " 'sentence2': \"Yucaipa bought Dominick 's in 1995 for $ 693 million and sold it to Safeway for $ 1.8 billion in 1998 .\",\n",
       " 'label': 0,\n",
       " 'idx': 1}"
      ]
     },
     "execution_count": 22,
     "metadata": {},
     "output_type": "execute_result"
    }
   ],
   "source": [
    "raw_datasets['train'][1]"
   ]
  },
  {
   "cell_type": "code",
   "execution_count": 2,
   "metadata": {},
   "outputs": [],
   "source": [
    "from transformers import TrainingArguments\n",
    "\n",
    "# this contains the hyperparameters for the Fine Tuning. The parameter is the name of a directory where the trained model will be saved,\n",
    "# as well as the checkpoints along the way\n",
    "training_args = TrainingArguments(\"test-trainer\")"
   ]
  },
  {
   "cell_type": "code",
   "execution_count": 17,
   "metadata": {},
   "outputs": [],
   "source": [
    "#training_args"
   ]
  },
  {
   "cell_type": "code",
   "execution_count": 4,
   "metadata": {},
   "outputs": [
    {
     "name": "stderr",
     "output_type": "stream",
     "text": [
      "Some weights of the model checkpoint at bert-base-uncased were not used when initializing BertForSequenceClassification: ['cls.predictions.transform.LayerNorm.bias', 'cls.seq_relationship.bias', 'cls.predictions.bias', 'cls.predictions.decoder.weight', 'cls.predictions.transform.LayerNorm.weight', 'cls.seq_relationship.weight', 'cls.predictions.transform.dense.bias', 'cls.predictions.transform.dense.weight']\n",
      "- This IS expected if you are initializing BertForSequenceClassification from the checkpoint of a model trained on another task or with another architecture (e.g. initializing a BertForSequenceClassification model from a BertForPreTraining model).\n",
      "- This IS NOT expected if you are initializing BertForSequenceClassification from the checkpoint of a model that you expect to be exactly identical (initializing a BertForSequenceClassification model from a BertForSequenceClassification model).\n",
      "Some weights of BertForSequenceClassification were not initialized from the model checkpoint at bert-base-uncased and are newly initialized: ['classifier.bias', 'classifier.weight']\n",
      "You should probably TRAIN this model on a down-stream task to be able to use it for predictions and inference.\n"
     ]
    }
   ],
   "source": [
    "# now define the model\n",
    "from transformers import AutoModelForSequenceClassification\n",
    "\n",
    "model = AutoModelForSequenceClassification.from_pretrained(checkpoint, num_labels=2)"
   ]
  },
  {
   "attachments": {},
   "cell_type": "markdown",
   "metadata": {},
   "source": [
    "Note the warnings we get on the above code after instantiating this pretrained model. This is because **BERT has not been pretrained on classifying pairs of sentences**, so **the head of the pretrained model has been discarded and a new head suitable for sequence classification has been added instead**. The warnings indicate that some weights were not used (the ones corresponding to the dropped pretraining head) and that some others were randomly initialized (the ones for the new head). It concludes by encouraging you to train the model, which is exactly what we are going to do now."
   ]
  },
  {
   "cell_type": "code",
   "execution_count": 5,
   "metadata": {},
   "outputs": [
    {
     "name": "stdout",
     "output_type": "stream",
     "text": [
      "cuda\n"
     ]
    }
   ],
   "source": [
    "import torch\n",
    "from torch import cuda\n",
    "\n",
    "# another attempt at a fix to run in the gpu\n",
    "device = torch.device(\"cuda\") if torch.cuda.is_available() else torch.device(\"cpu\")\n",
    "# this returns \"cuda\", so pytorch is aware of CUDA being installed\n",
    "\n",
    "cuda.empty_cache()\n",
    "model = model.to(device) #should not be needed, this is me trying to debug issues with the GPU\n",
    "print(device)            \n"
   ]
  },
  {
   "cell_type": "code",
   "execution_count": 6,
   "metadata": {},
   "outputs": [],
   "source": [
    "# Once we have our model, we can define a Trainer by passing it all the objects constructed up to now — \n",
    "# the model, the training_args, the training and validation datasets, our data_collator, and our tokenizer\n",
    "from transformers import Trainer\n",
    "\n",
    "trainer = Trainer(\n",
    "    model,\n",
    "    training_args,\n",
    "    train_dataset=tokenized_datasets[\"train\"],\n",
    "    eval_dataset=tokenized_datasets[\"validation\"],\n",
    "    data_collator=data_collator,\n",
    "    tokenizer=tokenizer,\n",
    ")\n",
    "\n",
    "# Note that when you pass the tokenizer as we did here, the default data_collator used by the Trainer will be a \n",
    "# DataCollatorWithPadding as defined previously, so you can actually skip the line data_collator=data_collator in this call.\n",
    "\n"
   ]
  },
  {
   "cell_type": "code",
   "execution_count": 7,
   "metadata": {},
   "outputs": [
    {
     "name": "stderr",
     "output_type": "stream",
     "text": [
      "c:\\Users\\joamart\\Anaconda3\\envs\\hfnlp\\lib\\site-packages\\transformers\\optimization.py:407: FutureWarning: This implementation of AdamW is deprecated and will be removed in a future version. Use the PyTorch implementation torch.optim.AdamW instead, or set `no_deprecation_warning=True` to disable this warning\n",
      "  warnings.warn(\n"
     ]
    },
    {
     "data": {
      "application/vnd.jupyter.widget-view+json": {
       "model_id": "8b5dbc5492b646b1890afbe161f107a2",
       "version_major": 2,
       "version_minor": 0
      },
      "text/plain": [
       "  0%|          | 0/1377 [00:00<?, ?it/s]"
      ]
     },
     "metadata": {},
     "output_type": "display_data"
    },
    {
     "name": "stderr",
     "output_type": "stream",
     "text": [
      "You're using a BertTokenizerFast tokenizer. Please note that with a fast tokenizer, using the `__call__` method is faster than using a method to encode the text followed by a call to the `pad` method to get a padded encoding.\n"
     ]
    },
    {
     "name": "stdout",
     "output_type": "stream",
     "text": [
      "{'train_runtime': 69.0861, 'train_samples_per_second': 159.279, 'train_steps_per_second': 19.932, 'train_loss': 0.05268104680656261, 'epoch': 3.0}\n"
     ]
    },
    {
     "data": {
      "text/plain": [
       "TrainOutput(global_step=1377, training_loss=0.05268104680656261, metrics={'train_runtime': 69.0861, 'train_samples_per_second': 159.279, 'train_steps_per_second': 19.932, 'train_loss': 0.05268104680656261, 'epoch': 3.0})"
      ]
     },
     "execution_count": 7,
     "metadata": {},
     "output_type": "execute_result"
    }
   ],
   "source": [
    "# To fine-tune the model on our dataset, we just have to call the train() method of our Trainer:\n",
    "trainer.train(resume_from_checkpoint=True)\n",
    "\n",
    "# took 5 minutes to run on my laptop"
   ]
  },
  {
   "cell_type": "code",
   "execution_count": 8,
   "metadata": {},
   "outputs": [
    {
     "data": {
      "application/vnd.jupyter.widget-view+json": {
       "model_id": "068316265ca0421d8b31d62e15bd21ca",
       "version_major": 2,
       "version_minor": 0
      },
      "text/plain": [
       "  0%|          | 0/51 [00:00<?, ?it/s]"
      ]
     },
     "metadata": {},
     "output_type": "display_data"
    },
    {
     "name": "stdout",
     "output_type": "stream",
     "text": [
      "(408, 2) (408,)\n"
     ]
    }
   ],
   "source": [
    "# get some predictions from our model\n",
    "predictions = trainer.predict(tokenized_datasets[\"validation\"])\n",
    "print(predictions.predictions.shape, predictions.label_ids.shape)"
   ]
  },
  {
   "attachments": {},
   "cell_type": "markdown",
   "metadata": {},
   "source": [
    "The output of the `predict()` method is another named tuple with three fields: `predictions`, `label_ids`, and `metrics`. The `metrics` field will just contain the loss on the dataset passed, as well as some time metrics (how long it took to predict, in total and on average). Once we complete our `compute_metrics()` function and pass it to the Trainer, that field will also contain the metrics returned by `compute_metrics()`. "
   ]
  },
  {
   "cell_type": "code",
   "execution_count": 9,
   "metadata": {},
   "outputs": [
    {
     "data": {
      "text/plain": [
       "array([[-3.2535424 ,  3.214699  ],\n",
       "       [ 2.3342998 , -2.2142668 ],\n",
       "       [ 1.841418  , -1.7557342 ],\n",
       "       [-3.1135614 ,  3.0576544 ],\n",
       "       [ 2.1885965 , -2.1124992 ],\n",
       "       [-3.1099048 ,  3.098265  ],\n",
       "       [-3.0268288 ,  2.9717078 ],\n",
       "       [-3.2591035 ,  3.2337382 ],\n",
       "       [-3.1470149 ,  3.1429627 ],\n",
       "       [-3.2277832 ,  3.1927621 ],\n",
       "       [-3.270707  ,  3.2157836 ],\n",
       "       [ 2.1633573 , -1.8815385 ],\n",
       "       [ 1.7756401 , -1.7210639 ],\n",
       "       [-3.2479305 ,  3.228663  ],\n",
       "       [-3.2727935 ,  3.243384  ],\n",
       "       [-3.0075758 ,  2.9595397 ],\n",
       "       [-3.1894376 ,  3.1814132 ],\n",
       "       [ 1.7170898 , -1.6417385 ],\n",
       "       [-3.2475433 ,  3.2217438 ],\n",
       "       [ 2.171003  , -2.0685265 ],\n",
       "       [ 2.236793  , -2.092103  ],\n",
       "       [-3.02765   ,  2.9652088 ],\n",
       "       [ 2.3683083 , -2.2850518 ],\n",
       "       [-3.2705934 ,  3.199697  ],\n",
       "       [ 2.2196317 , -2.0901704 ],\n",
       "       [-0.79386127,  0.7055756 ],\n",
       "       [ 1.9045945 , -2.1052516 ],\n",
       "       [-3.3121195 ,  3.2918031 ],\n",
       "       [-2.8737507 ,  2.8043673 ],\n",
       "       [-3.2495592 ,  3.2358196 ],\n",
       "       [-0.07340552,  0.20119514],\n",
       "       [-3.313126  ,  3.2739227 ],\n",
       "       [-3.1451569 ,  3.0865874 ],\n",
       "       [-3.1063766 ,  3.0848618 ],\n",
       "       [-3.2182376 ,  3.1783175 ],\n",
       "       [-2.8326716 ,  2.7526107 ],\n",
       "       [ 2.1471293 , -2.0327127 ],\n",
       "       [ 2.0555668 , -1.923643  ],\n",
       "       [-3.1695533 ,  3.127735  ],\n",
       "       [-3.2926612 ,  3.2726898 ],\n",
       "       [ 2.1559968 , -2.0465293 ],\n",
       "       [-3.130046  ,  3.0993764 ],\n",
       "       [ 2.16758   , -1.9324716 ],\n",
       "       [ 2.3251295 , -2.211109  ],\n",
       "       [ 1.7275201 , -1.6942418 ],\n",
       "       [-3.1963952 ,  3.1808374 ],\n",
       "       [-3.2255745 ,  3.225075  ],\n",
       "       [ 2.055496  , -1.7599536 ],\n",
       "       [-3.2784286 ,  3.2457902 ],\n",
       "       [-3.255474  ,  3.1982565 ],\n",
       "       [-3.0924046 ,  3.0964544 ],\n",
       "       [-3.0601223 ,  3.0003614 ],\n",
       "       [-3.2693658 ,  3.1924534 ],\n",
       "       [-3.2133055 ,  3.1965914 ],\n",
       "       [-3.2461085 ,  3.2037728 ],\n",
       "       [-3.0675464 ,  3.032386  ],\n",
       "       [ 0.9017089 , -1.0767078 ],\n",
       "       [-3.2987058 ,  3.2444649 ],\n",
       "       [-3.3310208 ,  3.233339  ],\n",
       "       [-3.0505495 ,  2.9698048 ],\n",
       "       [-3.2041705 ,  3.1594763 ],\n",
       "       [-2.1518695 ,  2.0681968 ],\n",
       "       [-3.2040632 ,  3.1655548 ],\n",
       "       [-3.172596  ,  3.1272655 ],\n",
       "       [-3.2338915 ,  3.1887271 ],\n",
       "       [ 1.7836066 , -1.7377976 ],\n",
       "       [-3.2276816 ,  3.223813  ],\n",
       "       [-3.263803  ,  3.2353334 ],\n",
       "       [ 1.3686632 , -1.0007852 ],\n",
       "       [-3.277923  ,  3.2426624 ],\n",
       "       [-3.2760937 ,  3.2250683 ],\n",
       "       [ 1.0796046 , -0.742488  ],\n",
       "       [-3.217541  ,  3.216691  ],\n",
       "       [-3.2281945 ,  3.1864898 ],\n",
       "       [-2.8436778 ,  2.7382052 ],\n",
       "       [-3.0024638 ,  2.8609433 ],\n",
       "       [-3.053415  ,  2.9768705 ],\n",
       "       [-3.3241768 ,  3.2712498 ],\n",
       "       [-3.2716675 ,  3.1823804 ],\n",
       "       [-3.2384882 ,  3.1888032 ],\n",
       "       [-0.974081  ,  0.8697118 ],\n",
       "       [-3.2549171 ,  3.2559743 ],\n",
       "       [-3.3423023 ,  3.237437  ],\n",
       "       [ 2.4899597 , -2.3225887 ],\n",
       "       [-3.2590647 ,  3.2285624 ],\n",
       "       [-2.8213863 ,  2.7824082 ],\n",
       "       [-2.9076278 ,  2.8649802 ],\n",
       "       [-1.0451183 ,  1.0576831 ],\n",
       "       [-3.2954261 ,  3.2346468 ],\n",
       "       [-3.2462692 ,  3.2422001 ],\n",
       "       [ 1.2886794 , -1.0617789 ],\n",
       "       [-3.221061  ,  3.1574337 ],\n",
       "       [-2.8864496 ,  2.8774083 ],\n",
       "       [-3.2667058 ,  3.1771076 ],\n",
       "       [-3.2276883 ,  3.1758463 ],\n",
       "       [-3.2180243 ,  3.1976087 ],\n",
       "       [ 2.1437027 , -2.1213965 ],\n",
       "       [-3.2073512 ,  3.1896036 ],\n",
       "       [-2.911386  ,  2.791155  ],\n",
       "       [-3.2679532 ,  3.2253907 ],\n",
       "       [-3.266173  ,  3.2244291 ],\n",
       "       [-0.54467106,  0.53302616],\n",
       "       [-3.155579  ,  3.1341567 ],\n",
       "       [-3.2451935 ,  3.2206454 ],\n",
       "       [ 1.0214082 , -0.90903705],\n",
       "       [-3.301039  ,  3.2190228 ],\n",
       "       [-3.1080832 ,  3.0668159 ],\n",
       "       [ 2.3347156 , -2.123165  ],\n",
       "       [ 2.446499  , -2.314476  ],\n",
       "       [-3.2508712 ,  3.216591  ],\n",
       "       [-2.336522  ,  2.3926346 ],\n",
       "       [-1.8699874 ,  1.6741884 ],\n",
       "       [-3.0581877 ,  2.9498796 ],\n",
       "       [-3.2365103 ,  3.2222161 ],\n",
       "       [-2.2914844 ,  2.3810318 ],\n",
       "       [ 2.320345  , -2.2266073 ],\n",
       "       [-3.1594424 ,  3.1539755 ],\n",
       "       [-3.2351677 ,  3.2337213 ],\n",
       "       [-3.2798972 ,  3.2392206 ],\n",
       "       [-3.290934  ,  3.2551408 ],\n",
       "       [-3.0300112 ,  3.0044088 ],\n",
       "       [ 1.0928532 , -0.7723773 ],\n",
       "       [ 2.2642832 , -2.1360009 ],\n",
       "       [-3.2251546 ,  3.1455452 ],\n",
       "       [-3.243374  ,  3.2021816 ],\n",
       "       [-3.0376163 ,  2.9339468 ],\n",
       "       [-3.2544663 ,  3.197556  ],\n",
       "       [ 2.4345424 , -2.3119736 ],\n",
       "       [-3.2437928 ,  3.2339168 ],\n",
       "       [-3.2813773 ,  3.2393982 ],\n",
       "       [-3.1978924 ,  3.1837022 ],\n",
       "       [-0.9130749 ,  0.9974466 ],\n",
       "       [-3.1734965 ,  3.1030624 ],\n",
       "       [-0.27880004,  0.6805605 ],\n",
       "       [-2.8610742 ,  2.7864747 ],\n",
       "       [-3.1706698 ,  3.132155  ],\n",
       "       [-2.2936847 ,  2.2991948 ],\n",
       "       [ 1.7231028 , -1.6486307 ],\n",
       "       [-3.2142446 ,  3.2052653 ],\n",
       "       [-3.2863762 ,  3.2382853 ],\n",
       "       [-3.2444806 ,  3.2178724 ],\n",
       "       [ 0.14206403, -0.12254426],\n",
       "       [ 2.0021427 , -1.9468403 ],\n",
       "       [-3.2666094 ,  3.1857815 ],\n",
       "       [ 2.2368014 , -2.1287997 ],\n",
       "       [-2.7446153 ,  2.6185665 ],\n",
       "       [-3.2369957 ,  3.2439263 ],\n",
       "       [-1.1818992 ,  0.6600253 ],\n",
       "       [ 2.0184762 , -1.9556018 ],\n",
       "       [-3.0005682 ,  2.8846    ],\n",
       "       [ 2.1098838 , -2.0097308 ],\n",
       "       [-3.178865  ,  3.164374  ],\n",
       "       [-2.912945  ,  2.7280269 ],\n",
       "       [-3.2184398 ,  3.2240143 ],\n",
       "       [-2.301679  ,  2.1133342 ],\n",
       "       [-3.2136078 ,  3.1944547 ],\n",
       "       [-3.2597165 ,  3.1791847 ],\n",
       "       [-2.9018683 ,  2.7884688 ],\n",
       "       [ 1.4302586 , -1.3708457 ],\n",
       "       [-2.836849  ,  2.726133  ],\n",
       "       [-2.9722624 ,  2.8312953 ],\n",
       "       [-3.2150202 ,  3.1655128 ],\n",
       "       [-3.2363818 ,  3.221838  ],\n",
       "       [-3.234635  ,  3.2058816 ],\n",
       "       [-3.235713  ,  3.1811016 ],\n",
       "       [-3.2115357 ,  3.17534   ],\n",
       "       [-2.9288712 ,  2.7593274 ],\n",
       "       [ 0.9998012 , -1.1972464 ],\n",
       "       [-3.1685166 ,  3.1907637 ],\n",
       "       [ 2.2384036 , -2.1300404 ],\n",
       "       [-2.6288822 ,  2.5347247 ],\n",
       "       [-0.8447833 ,  0.91209716],\n",
       "       [-1.0519848 ,  0.9580724 ],\n",
       "       [-3.1928198 ,  3.141121  ],\n",
       "       [-1.950072  ,  1.8361421 ],\n",
       "       [-3.0428047 ,  3.0020049 ],\n",
       "       [-3.1783195 ,  3.1770904 ],\n",
       "       [ 2.1821196 , -2.123708  ],\n",
       "       [-3.2748594 ,  3.2350402 ],\n",
       "       [-3.0942748 ,  3.0235171 ],\n",
       "       [-1.6774187 ,  1.594548  ],\n",
       "       [ 0.16100228, -0.18536092],\n",
       "       [-3.2171595 ,  3.2064817 ],\n",
       "       [-3.2460322 ,  3.1506839 ],\n",
       "       [-3.1858373 ,  3.0888362 ],\n",
       "       [-3.0177414 ,  3.043901  ],\n",
       "       [ 2.120441  , -1.9271637 ],\n",
       "       [ 1.6681918 , -1.4925069 ],\n",
       "       [ 2.1975842 , -2.0875394 ],\n",
       "       [-3.2155876 ,  3.1335182 ],\n",
       "       [-3.252812  ,  3.232232  ],\n",
       "       [ 2.181775  , -2.0874424 ],\n",
       "       [ 1.879478  , -1.725761  ],\n",
       "       [-3.1870759 ,  3.2066882 ],\n",
       "       [-0.30665633,  0.12593639],\n",
       "       [-3.1810765 ,  3.1201572 ],\n",
       "       [-3.230816  ,  3.2552729 ],\n",
       "       [ 0.35822013, -0.44767115],\n",
       "       [-2.6696248 ,  2.5247364 ],\n",
       "       [-3.109106  ,  3.000191  ],\n",
       "       [-3.1899576 ,  3.1320648 ],\n",
       "       [-2.0699046 ,  2.0539837 ],\n",
       "       [ 1.7170329 , -1.6660378 ],\n",
       "       [-3.1683118 ,  3.13736   ],\n",
       "       [-3.064649  ,  2.9507134 ],\n",
       "       [ 2.0507047 , -1.9728674 ],\n",
       "       [-3.1663978 ,  3.0742366 ],\n",
       "       [-2.691513  ,  2.6264246 ],\n",
       "       [ 2.2085812 , -2.0720227 ],\n",
       "       [ 1.5238171 , -1.4024733 ],\n",
       "       [-0.54230136,  0.7652389 ],\n",
       "       [-3.187245  ,  3.172345  ],\n",
       "       [ 1.6881602 , -1.6153709 ],\n",
       "       [ 2.1029592 , -1.9966266 ],\n",
       "       [-3.172273  ,  3.1796842 ],\n",
       "       [-3.2206347 ,  3.2239542 ],\n",
       "       [-3.0575585 ,  3.0429306 ],\n",
       "       [-3.25868   ,  3.2368329 ],\n",
       "       [ 2.3593202 , -2.276085  ],\n",
       "       [-3.117136  ,  3.1626556 ],\n",
       "       [-3.0408883 ,  2.949122  ],\n",
       "       [-2.7939322 ,  2.6509287 ],\n",
       "       [-3.2408628 ,  3.2481062 ],\n",
       "       [ 2.1335838 , -2.052014  ],\n",
       "       [-3.181004  ,  3.1335    ],\n",
       "       [-3.2239416 ,  3.1957347 ],\n",
       "       [-3.2939305 ,  3.2602413 ],\n",
       "       [-3.096086  ,  3.062122  ],\n",
       "       [-3.2226272 ,  3.1789079 ],\n",
       "       [-3.266646  ,  3.1905649 ],\n",
       "       [-3.2867146 ,  3.2508686 ],\n",
       "       [-3.166726  ,  3.1427405 ],\n",
       "       [-2.7383378 ,  2.603293  ],\n",
       "       [ 2.294048  , -2.0426815 ],\n",
       "       [ 2.1881697 , -2.1543007 ],\n",
       "       [ 2.2065969 , -1.9169668 ],\n",
       "       [ 0.5105346 , -0.4059911 ],\n",
       "       [ 2.136496  , -1.9184991 ],\n",
       "       [-3.099034  ,  3.0716715 ],\n",
       "       [-2.3877897 ,  2.349375  ],\n",
       "       [-3.1805265 ,  3.0909517 ],\n",
       "       [ 2.3110971 , -2.2537894 ],\n",
       "       [-3.1239462 ,  3.0714674 ],\n",
       "       [-3.0390656 ,  2.9467785 ],\n",
       "       [-3.2535796 ,  3.2355065 ],\n",
       "       [-3.138076  ,  3.09949   ],\n",
       "       [-3.2256312 ,  3.1488738 ],\n",
       "       [-3.070761  ,  2.9780865 ],\n",
       "       [-3.258494  ,  3.2052503 ],\n",
       "       [-2.8981671 ,  2.8841383 ],\n",
       "       [-3.0431626 ,  2.917081  ],\n",
       "       [ 0.73029494, -0.49471083],\n",
       "       [ 1.8087392 , -1.6823605 ],\n",
       "       [-3.0425847 ,  3.0138936 ],\n",
       "       [ 1.9361062 , -1.6845233 ],\n",
       "       [ 2.2809143 , -2.1828482 ],\n",
       "       [-3.2549682 ,  3.2170854 ],\n",
       "       [-3.2052658 ,  3.140111  ],\n",
       "       [-2.9843209 ,  2.9454293 ],\n",
       "       [ 1.500691  , -1.2988243 ],\n",
       "       [-3.1747346 ,  3.0927763 ],\n",
       "       [-3.196925  ,  3.1781206 ],\n",
       "       [-3.1814075 ,  3.1795065 ],\n",
       "       [-2.5836265 ,  2.4092255 ],\n",
       "       [-3.171084  ,  3.1026084 ],\n",
       "       [-1.491078  ,  1.3929354 ],\n",
       "       [ 2.0876741 , -1.9768784 ],\n",
       "       [ 2.312763  , -2.192746  ],\n",
       "       [ 1.3862791 , -1.319378  ],\n",
       "       [-3.1779435 ,  3.1207879 ],\n",
       "       [ 2.3437207 , -2.2304342 ],\n",
       "       [-3.2240195 ,  3.2247508 ],\n",
       "       [-3.2517934 ,  3.1909578 ],\n",
       "       [-3.29464   ,  3.2508416 ],\n",
       "       [-3.2208612 ,  3.201667  ],\n",
       "       [-2.9209034 ,  2.802471  ],\n",
       "       [-3.142625  ,  3.10883   ],\n",
       "       [-1.7347394 ,  1.67024   ],\n",
       "       [-2.9173415 ,  2.7864134 ],\n",
       "       [ 2.2338245 , -2.1199954 ],\n",
       "       [-3.1422446 ,  3.0389924 ],\n",
       "       [-1.8146216 ,  1.4465083 ],\n",
       "       [-2.1531885 ,  1.9257195 ],\n",
       "       [ 2.221651  , -2.1529598 ],\n",
       "       [ 0.7073955 , -0.52984893],\n",
       "       [-3.3001819 ,  3.2410336 ],\n",
       "       [-3.2601602 ,  3.203871  ],\n",
       "       [-2.9713194 ,  2.8636403 ],\n",
       "       [-3.2723696 ,  3.2474546 ],\n",
       "       [ 1.8524572 , -1.7882243 ],\n",
       "       [ 1.9335256 , -1.9629809 ],\n",
       "       [ 2.246679  , -2.108105  ],\n",
       "       [-3.2080483 ,  3.1872468 ],\n",
       "       [-3.137263  ,  3.1018648 ],\n",
       "       [-3.2426052 ,  3.2096105 ],\n",
       "       [ 2.1179037 , -1.9276698 ],\n",
       "       [ 2.1810865 , -2.0249813 ],\n",
       "       [-2.7250392 ,  2.505387  ],\n",
       "       [-3.2273424 ,  3.2090063 ],\n",
       "       [-1.4485195 ,  1.0951737 ],\n",
       "       [-3.2253842 ,  3.2087514 ],\n",
       "       [-3.1866698 ,  3.194223  ],\n",
       "       [-3.1626275 ,  3.1224542 ],\n",
       "       [ 2.196002  , -2.0520215 ],\n",
       "       [-3.2319746 ,  3.2227638 ],\n",
       "       [-3.2556252 ,  3.203189  ],\n",
       "       [ 2.224678  , -2.0999177 ],\n",
       "       [-3.2388477 ,  3.192988  ],\n",
       "       [ 2.240118  , -2.1591058 ],\n",
       "       [-3.100265  ,  3.0074892 ],\n",
       "       [-2.9967382 ,  2.94285   ],\n",
       "       [-3.2192862 ,  3.1949117 ],\n",
       "       [-0.22864588,  0.14315692],\n",
       "       [ 2.1464238 , -1.97755   ],\n",
       "       [-3.194511  ,  3.1938648 ],\n",
       "       [ 1.5248669 , -1.2578486 ],\n",
       "       [-2.898569  ,  2.8280425 ],\n",
       "       [-3.308428  ,  3.2162268 ],\n",
       "       [ 2.2240155 , -2.1525922 ],\n",
       "       [ 2.396896  , -2.2712183 ],\n",
       "       [ 2.2919037 , -2.2166226 ],\n",
       "       [ 2.122082  , -2.039102  ],\n",
       "       [ 1.797649  , -1.7469385 ],\n",
       "       [ 0.7599924 , -0.5061286 ],\n",
       "       [-1.910431  ,  1.8490461 ],\n",
       "       [-3.326508  ,  3.280352  ],\n",
       "       [-2.9903512 ,  2.9426196 ],\n",
       "       [-3.2210932 ,  3.22336   ],\n",
       "       [-3.2179    ,  3.1832876 ],\n",
       "       [ 1.0811511 , -0.9962793 ],\n",
       "       [-3.3058054 ,  3.2712147 ],\n",
       "       [-3.2647543 ,  3.2353888 ],\n",
       "       [-3.1812806 ,  3.1607733 ],\n",
       "       [-2.935175  ,  2.9423864 ],\n",
       "       [-3.2666366 ,  3.2423506 ],\n",
       "       [-3.210426  ,  3.141278  ],\n",
       "       [-3.2665746 ,  3.1766548 ],\n",
       "       [-3.2529097 ,  3.2132518 ],\n",
       "       [-2.8703685 ,  2.7651076 ],\n",
       "       [-0.13323642,  0.3901461 ],\n",
       "       [-3.071431  ,  2.903685  ],\n",
       "       [-3.2590208 ,  3.2189615 ],\n",
       "       [ 2.3296144 , -2.18074   ],\n",
       "       [ 2.097578  , -1.9247887 ],\n",
       "       [-3.2221344 ,  3.213825  ],\n",
       "       [-3.2454216 ,  3.2497911 ],\n",
       "       [-3.2595627 ,  3.2297795 ],\n",
       "       [-3.237397  ,  3.2197444 ],\n",
       "       [-2.927442  ,  2.7191806 ],\n",
       "       [-3.162206  ,  3.1404243 ],\n",
       "       [ 2.2164197 , -2.080627  ],\n",
       "       [-3.2527742 ,  3.2261555 ],\n",
       "       [-2.612828  ,  2.5357    ],\n",
       "       [-3.1344824 ,  3.070224  ],\n",
       "       [ 1.6664248 , -1.3995605 ],\n",
       "       [-2.5271173 ,  2.554892  ],\n",
       "       [-3.1552486 ,  3.0901403 ],\n",
       "       [-3.1996133 ,  3.1763442 ],\n",
       "       [-3.2527294 ,  3.2085953 ],\n",
       "       [-3.1815777 ,  3.1232545 ],\n",
       "       [ 1.0586845 , -0.8762794 ],\n",
       "       [-3.1318297 ,  3.0263803 ],\n",
       "       [-3.2672365 ,  3.255886  ],\n",
       "       [-2.060714  ,  1.9196426 ],\n",
       "       [-3.1483533 ,  3.0711796 ],\n",
       "       [-3.2060153 ,  3.2076735 ],\n",
       "       [-3.2503054 ,  3.2045803 ],\n",
       "       [-2.5379162 ,  2.5005827 ],\n",
       "       [ 2.3274915 , -2.208728  ],\n",
       "       [ 2.05608   , -1.9940888 ],\n",
       "       [-2.5057561 ,  2.415851  ],\n",
       "       [-3.2673879 ,  3.22553   ],\n",
       "       [-3.2225199 ,  3.202514  ],\n",
       "       [-1.8580346 ,  1.4260179 ],\n",
       "       [ 1.8884221 , -1.7951857 ],\n",
       "       [ 0.7929074 , -0.6968537 ],\n",
       "       [-1.6347808 ,  1.388695  ],\n",
       "       [ 2.2055583 , -2.0582762 ],\n",
       "       [-2.8435059 ,  2.6817389 ],\n",
       "       [-3.2694638 ,  3.229623  ],\n",
       "       [-1.8840753 ,  1.872414  ],\n",
       "       [-3.2416506 ,  3.1589339 ],\n",
       "       [-1.4358331 ,  1.5846684 ],\n",
       "       [-3.2337306 ,  3.2285109 ],\n",
       "       [-3.1650383 ,  3.1674597 ],\n",
       "       [ 1.8391223 , -1.5925695 ],\n",
       "       [-2.6388533 ,  2.716256  ],\n",
       "       [ 1.5615726 , -1.9331387 ],\n",
       "       [-3.2644858 ,  3.221998  ],\n",
       "       [ 2.1542344 , -1.8875844 ],\n",
       "       [-3.180001  ,  3.1636448 ],\n",
       "       [-1.3933432 ,  1.2641381 ],\n",
       "       [-3.268515  ,  3.2096927 ],\n",
       "       [-3.2046337 ,  3.1773639 ],\n",
       "       [-3.099583  ,  2.9205565 ],\n",
       "       [-3.1617293 ,  3.07252   ],\n",
       "       [-3.283048  ,  3.2193785 ],\n",
       "       [-2.7889097 ,  2.6350353 ],\n",
       "       [-3.0902877 ,  3.0318677 ],\n",
       "       [-3.1819692 ,  3.180911  ],\n",
       "       [ 1.8060006 , -1.740909  ],\n",
       "       [-3.291838  ,  3.2617989 ],\n",
       "       [-3.096259  ,  2.9119627 ],\n",
       "       [ 2.3653827 , -2.2231557 ],\n",
       "       [ 0.8437647 , -0.8207994 ],\n",
       "       [-3.244155  ,  3.2255728 ],\n",
       "       [ 1.6811877 , -1.7560924 ],\n",
       "       [-2.6574774 ,  2.5287359 ]], dtype=float32)"
      ]
     },
     "execution_count": 9,
     "metadata": {},
     "output_type": "execute_result"
    }
   ],
   "source": [
    "predictions.predictions\n",
    "# remember the output is always logits, not probabilities"
   ]
  },
  {
   "cell_type": "code",
   "execution_count": 10,
   "metadata": {},
   "outputs": [
    {
     "data": {
      "text/plain": [
       "array([1, 0, 0, 1, 0, 1, 0, 1, 1, 1, 1, 0, 0, 1, 1, 1, 1, 0, 1, 0, 0, 1,\n",
       "       0, 1, 1, 1, 0, 1, 1, 1, 0, 1, 1, 1, 1, 0, 0, 0, 1, 1, 0, 1, 0, 0,\n",
       "       0, 1, 1, 0, 1, 1, 1, 1, 1, 1, 1, 1, 1, 1, 1, 1, 0, 1, 1, 1, 1, 0,\n",
       "       1, 1, 0, 1, 1, 1, 1, 1, 1, 1, 0, 1, 1, 1, 0, 1, 1, 0, 1, 0, 1, 0,\n",
       "       1, 1, 0, 1, 1, 0, 1, 1, 0, 1, 1, 1, 1, 1, 1, 1, 0, 1, 1, 0, 0, 1,\n",
       "       1, 1, 1, 1, 0, 0, 1, 1, 1, 1, 1, 1, 0, 1, 1, 1, 1, 0, 1, 1, 1, 0,\n",
       "       1, 0, 1, 1, 0, 0, 1, 0, 1, 0, 0, 1, 0, 0, 1, 1, 1, 1, 0, 1, 1, 1,\n",
       "       1, 1, 1, 0, 0, 1, 1, 1, 1, 1, 1, 1, 1, 0, 1, 0, 0, 1, 1, 1, 0, 1,\n",
       "       1, 0, 1, 1, 0, 0, 1, 1, 0, 1, 0, 1, 0, 1, 1, 0, 1, 1, 0, 1, 1, 0,\n",
       "       1, 1, 1, 0, 1, 1, 1, 0, 1, 1, 1, 0, 0, 1, 1, 0, 1, 1, 1, 1, 0, 1,\n",
       "       1, 1, 1, 0, 1, 1, 1, 1, 1, 1, 1, 1, 1, 1, 1, 0, 1, 0, 1, 0, 1, 0,\n",
       "       1, 1, 1, 1, 1, 0, 1, 1, 1, 0, 1, 0, 1, 0, 1, 1, 1, 0, 1, 0, 1, 1,\n",
       "       0, 1, 1, 0, 0, 1, 0, 1, 1, 1, 1, 1, 1, 1, 1, 0, 1, 1, 1, 0, 0, 1,\n",
       "       1, 1, 1, 1, 1, 0, 1, 1, 1, 0, 0, 0, 1, 1, 1, 1, 1, 1, 1, 1, 0, 1,\n",
       "       0, 0, 0, 1, 1, 0, 1, 0, 1, 1, 0, 0, 0, 0, 0, 1, 0, 1, 0, 1, 1, 1,\n",
       "       1, 1, 0, 1, 1, 1, 1, 0, 0, 1, 1, 1, 0, 0, 1, 1, 1, 1, 0, 1, 0, 1,\n",
       "       0, 1, 0, 0, 1, 1, 1, 1, 0, 1, 1, 0, 1, 1, 0, 1, 0, 0, 1, 1, 1, 1,\n",
       "       0, 0, 0, 0, 1, 1, 1, 1, 0, 1, 1, 0, 1, 0, 1, 1, 1, 1, 1, 1, 1, 1,\n",
       "       1, 1, 1, 1, 0, 1, 1, 0, 1, 1, 0, 1], dtype=int64)"
      ]
     },
     "execution_count": 10,
     "metadata": {},
     "output_type": "execute_result"
    }
   ],
   "source": [
    "predictions.label_ids"
   ]
  },
  {
   "cell_type": "code",
   "execution_count": 11,
   "metadata": {},
   "outputs": [
    {
     "data": {
      "text/plain": [
       "{'test_loss': 0.7007440328598022,\n",
       " 'test_runtime': 2.2516,\n",
       " 'test_samples_per_second': 181.207,\n",
       " 'test_steps_per_second': 22.651}"
      ]
     },
     "execution_count": 11,
     "metadata": {},
     "output_type": "execute_result"
    }
   ],
   "source": [
    "predictions.metrics"
   ]
  },
  {
   "cell_type": "code",
   "execution_count": 12,
   "metadata": {},
   "outputs": [],
   "source": [
    "import numpy as np\n",
    "\n",
    "preds = np.argmax(predictions.predictions, axis=-1) \n",
    "# Returns the indices of the maximum values along an axis - 0 or 1. Logo dá-nos o valor da previsão, com base nos logits, \n",
    "# mesmo sem precisar de converter para probabilidades"
   ]
  },
  {
   "cell_type": "code",
   "execution_count": 13,
   "metadata": {},
   "outputs": [
    {
     "data": {
      "text/plain": [
       "array([1, 0, 0, 1, 0, 1, 1, 1, 1, 1, 1, 0, 0, 1, 1, 1, 1, 0, 1, 0, 0, 1,\n",
       "       0, 1, 0, 1, 0, 1, 1, 1, 1, 1, 1, 1, 1, 1, 0, 0, 1, 1, 0, 1, 0, 0,\n",
       "       0, 1, 1, 0, 1, 1, 1, 1, 1, 1, 1, 1, 0, 1, 1, 1, 1, 1, 1, 1, 1, 0,\n",
       "       1, 1, 0, 1, 1, 0, 1, 1, 1, 1, 1, 1, 1, 1, 1, 1, 1, 0, 1, 1, 1, 1,\n",
       "       1, 1, 0, 1, 1, 1, 1, 1, 0, 1, 1, 1, 1, 1, 1, 1, 0, 1, 1, 0, 0, 1,\n",
       "       1, 1, 1, 1, 1, 0, 1, 1, 1, 1, 1, 0, 0, 1, 1, 1, 1, 0, 1, 1, 1, 1,\n",
       "       1, 1, 1, 1, 1, 0, 1, 1, 1, 0, 0, 1, 0, 1, 1, 1, 0, 1, 0, 1, 1, 1,\n",
       "       1, 1, 1, 1, 0, 1, 1, 1, 1, 1, 1, 1, 1, 0, 1, 0, 1, 1, 1, 1, 1, 1,\n",
       "       1, 0, 1, 1, 1, 0, 1, 1, 1, 1, 0, 0, 0, 1, 1, 0, 0, 1, 1, 1, 1, 0,\n",
       "       1, 1, 1, 1, 0, 1, 1, 0, 1, 1, 0, 0, 1, 1, 0, 0, 1, 1, 1, 1, 0, 1,\n",
       "       1, 1, 1, 0, 1, 1, 1, 1, 1, 1, 1, 1, 1, 0, 0, 0, 0, 0, 1, 1, 1, 0,\n",
       "       1, 1, 1, 1, 1, 1, 1, 1, 1, 0, 0, 1, 0, 0, 1, 1, 1, 0, 1, 1, 1, 1,\n",
       "       1, 1, 0, 0, 0, 1, 0, 1, 1, 1, 1, 1, 1, 1, 1, 0, 1, 1, 1, 0, 0, 1,\n",
       "       1, 1, 1, 0, 0, 0, 1, 1, 1, 0, 0, 1, 1, 1, 1, 1, 1, 0, 1, 1, 0, 1,\n",
       "       0, 1, 1, 1, 1, 0, 1, 0, 1, 1, 0, 0, 0, 0, 0, 0, 1, 1, 1, 1, 1, 0,\n",
       "       1, 1, 1, 1, 1, 1, 1, 1, 1, 1, 1, 1, 0, 0, 1, 1, 1, 1, 1, 1, 0, 1,\n",
       "       1, 1, 0, 1, 1, 1, 1, 1, 0, 1, 1, 1, 1, 1, 1, 1, 0, 0, 1, 1, 1, 1,\n",
       "       0, 0, 1, 0, 1, 1, 1, 1, 1, 1, 1, 0, 1, 0, 1, 0, 1, 1, 1, 1, 1, 1,\n",
       "       1, 1, 1, 1, 0, 1, 1, 0, 0, 1, 0, 1], dtype=int64)"
      ]
     },
     "execution_count": 13,
     "metadata": {},
     "output_type": "execute_result"
    }
   ],
   "source": [
    "preds"
   ]
  },
  {
   "attachments": {},
   "cell_type": "markdown",
   "metadata": {},
   "source": [
    "We can now compare those `preds` to the labels. To build our `compute_metric()` function, we will rely on the metrics from the 🤗 Evaluate library. **We can load the metrics associated with the MRPC dataset as easily as we loaded the dataset, this time with the `evaluate.load()` function. The object returned has a `compute()` method we can use to do the metric calculation:**"
   ]
  },
  {
   "cell_type": "code",
   "execution_count": 14,
   "metadata": {},
   "outputs": [
    {
     "data": {
      "text/plain": [
       "{'accuracy': 0.8382352941176471, 'f1': 0.8858131487889273}"
      ]
     },
     "execution_count": 14,
     "metadata": {},
     "output_type": "execute_result"
    }
   ],
   "source": [
    "import evaluate\n",
    "\n",
    "# this needs scikit-learn to be installed\n",
    "metric = evaluate.load(\"glue\", \"mrpc\")\n",
    "metric.compute(predictions=preds, references=predictions.label_ids)"
   ]
  },
  {
   "attachments": {},
   "cell_type": "markdown",
   "metadata": {},
   "source": [
    "The exact results you get may vary, as the random initialization of the model head might change the metrics it achieved. **Accuracy and F1 score are the two metrics used to evaluate results on the MRPC dataset for the GLUE benchmark**.\n",
    "\n",
    "The table in the BERT paper reported an F1 score of 88.9 for the base model. That was the uncased model while we are currently using the cased model, which explains the better result."
   ]
  },
  {
   "cell_type": "code",
   "execution_count": 15,
   "metadata": {},
   "outputs": [],
   "source": [
    "# putting the function together\n",
    "def compute_metrics(eval_preds):\n",
    "    metric = evaluate.load(\"glue\", \"mrpc\") # load the applicable metrics of the mrpc dataset in the glue dataset\n",
    "    logits, labels = eval_preds\n",
    "    predictions = np.argmax(logits, axis=-1) # get the predictions from the logits\n",
    "    return metric.compute(predictions=predictions, references=labels) #compute the metrics"
   ]
  },
  {
   "cell_type": "code",
   "execution_count": 16,
   "metadata": {},
   "outputs": [
    {
     "name": "stderr",
     "output_type": "stream",
     "text": [
      "Some weights of the model checkpoint at bert-base-uncased were not used when initializing BertForSequenceClassification: ['cls.predictions.transform.LayerNorm.bias', 'cls.seq_relationship.bias', 'cls.predictions.bias', 'cls.predictions.decoder.weight', 'cls.predictions.transform.LayerNorm.weight', 'cls.seq_relationship.weight', 'cls.predictions.transform.dense.bias', 'cls.predictions.transform.dense.weight']\n",
      "- This IS expected if you are initializing BertForSequenceClassification from the checkpoint of a model trained on another task or with another architecture (e.g. initializing a BertForSequenceClassification model from a BertForPreTraining model).\n",
      "- This IS NOT expected if you are initializing BertForSequenceClassification from the checkpoint of a model that you expect to be exactly identical (initializing a BertForSequenceClassification model from a BertForSequenceClassification model).\n",
      "Some weights of BertForSequenceClassification were not initialized from the model checkpoint at bert-base-uncased and are newly initialized: ['classifier.bias', 'classifier.weight']\n",
      "You should probably TRAIN this model on a down-stream task to be able to use it for predictions and inference.\n",
      "c:\\Users\\joamart\\Anaconda3\\envs\\hfnlp\\lib\\site-packages\\transformers\\optimization.py:407: FutureWarning: This implementation of AdamW is deprecated and will be removed in a future version. Use the PyTorch implementation torch.optim.AdamW instead, or set `no_deprecation_warning=True` to disable this warning\n",
      "  warnings.warn(\n"
     ]
    },
    {
     "data": {
      "application/vnd.jupyter.widget-view+json": {
       "model_id": "c3b867822b9c4d52813b500a37306066",
       "version_major": 2,
       "version_minor": 0
      },
      "text/plain": [
       "  0%|          | 0/1377 [00:00<?, ?it/s]"
      ]
     },
     "metadata": {},
     "output_type": "display_data"
    },
    {
     "data": {
      "application/vnd.jupyter.widget-view+json": {
       "model_id": "57cff3e45d93488fa28b3c1e13ea0c45",
       "version_major": 2,
       "version_minor": 0
      },
      "text/plain": [
       "  0%|          | 0/51 [00:00<?, ?it/s]"
      ]
     },
     "metadata": {},
     "output_type": "display_data"
    },
    {
     "name": "stdout",
     "output_type": "stream",
     "text": [
      "{'eval_loss': 0.37218421697616577, 'eval_accuracy': 0.8529411764705882, 'eval_f1': 0.8958333333333334, 'eval_runtime': 4.0861, 'eval_samples_per_second': 99.851, 'eval_steps_per_second': 12.481, 'epoch': 1.0}\n",
      "{'loss': 0.5089, 'learning_rate': 3.184458968772695e-05, 'epoch': 1.09}\n"
     ]
    },
    {
     "data": {
      "application/vnd.jupyter.widget-view+json": {
       "model_id": "1271a81130d6400ab4c994187bb15b78",
       "version_major": 2,
       "version_minor": 0
      },
      "text/plain": [
       "  0%|          | 0/51 [00:00<?, ?it/s]"
      ]
     },
     "metadata": {},
     "output_type": "display_data"
    },
    {
     "name": "stdout",
     "output_type": "stream",
     "text": [
      "{'eval_loss': 0.5396929979324341, 'eval_accuracy': 0.8406862745098039, 'eval_f1': 0.8914858096828046, 'eval_runtime': 4.5412, 'eval_samples_per_second': 89.844, 'eval_steps_per_second': 11.23, 'epoch': 2.0}\n",
      "{'loss': 0.2862, 'learning_rate': 1.3689179375453886e-05, 'epoch': 2.18}\n"
     ]
    },
    {
     "data": {
      "application/vnd.jupyter.widget-view+json": {
       "model_id": "f786c116d6584569bf83426070ca71ba",
       "version_major": 2,
       "version_minor": 0
      },
      "text/plain": [
       "  0%|          | 0/51 [00:00<?, ?it/s]"
      ]
     },
     "metadata": {},
     "output_type": "display_data"
    },
    {
     "name": "stdout",
     "output_type": "stream",
     "text": [
      "{'eval_loss': 0.6872920393943787, 'eval_accuracy': 0.8455882352941176, 'eval_f1': 0.8904347826086957, 'eval_runtime': 5.6965, 'eval_samples_per_second': 71.623, 'eval_steps_per_second': 8.953, 'epoch': 3.0}\n",
      "{'train_runtime': 346.3752, 'train_samples_per_second': 31.769, 'train_steps_per_second': 3.975, 'train_loss': 0.321917495782945, 'epoch': 3.0}\n"
     ]
    },
    {
     "data": {
      "text/plain": [
       "TrainOutput(global_step=1377, training_loss=0.321917495782945, metrics={'train_runtime': 346.3752, 'train_samples_per_second': 31.769, 'train_steps_per_second': 3.975, 'train_loss': 0.321917495782945, 'epoch': 3.0})"
      ]
     },
     "execution_count": 16,
     "metadata": {},
     "output_type": "execute_result"
    }
   ],
   "source": [
    "# Now use the trainer again, but this time pass in the compute_metrics function\n",
    "\n",
    "training_args = TrainingArguments(\"test-trainer\", evaluation_strategy=\"epoch\") # note epoch parameter, means: compute metrics at the end of every epoch\n",
    "model = AutoModelForSequenceClassification.from_pretrained(checkpoint, num_labels=2)\n",
    "\n",
    "trainer = Trainer(\n",
    "    model,\n",
    "    training_args,\n",
    "    train_dataset=tokenized_datasets[\"train\"],\n",
    "    eval_dataset=tokenized_datasets[\"validation\"],\n",
    "    data_collator=data_collator,\n",
    "    tokenizer=tokenizer,\n",
    "    compute_metrics=compute_metrics, # this is new\n",
    ")\n",
    "\n",
    "trainer.train()"
   ]
  },
  {
   "attachments": {},
   "cell_type": "markdown",
   "metadata": {},
   "source": [
    "This time, it will report the validation loss and metrics at the end of each epoch on top of the training loss."
   ]
  },
  {
   "attachments": {},
   "cell_type": "markdown",
   "metadata": {},
   "source": [
    "# Do this with glue/sst-2"
   ]
  },
  {
   "cell_type": "code",
   "execution_count": 26,
   "metadata": {},
   "outputs": [
    {
     "name": "stderr",
     "output_type": "stream",
     "text": [
      "Found cached dataset glue (C:/Users/joamart/.cache/huggingface/datasets/glue/sst2/1.0.0/dacbe3125aa31d7f70367a07a8a9e72a5a0bfeb5fc42e75c9db75b96da6053ad)\n"
     ]
    },
    {
     "data": {
      "application/vnd.jupyter.widget-view+json": {
       "model_id": "df9f32d9c003467a8cafb68b6131bd33",
       "version_major": 2,
       "version_minor": 0
      },
      "text/plain": [
       "  0%|          | 0/3 [00:00<?, ?it/s]"
      ]
     },
     "metadata": {},
     "output_type": "display_data"
    },
    {
     "data": {
      "application/vnd.jupyter.widget-view+json": {
       "model_id": "694d34693535459d8150df27a24da09b",
       "version_major": 2,
       "version_minor": 0
      },
      "text/plain": [
       "Map:   0%|          | 0/67349 [00:00<?, ? examples/s]"
      ]
     },
     "metadata": {},
     "output_type": "display_data"
    },
    {
     "data": {
      "application/vnd.jupyter.widget-view+json": {
       "model_id": "699df6378e9f48fb98c980881f7fdcdb",
       "version_major": 2,
       "version_minor": 0
      },
      "text/plain": [
       "Map:   0%|          | 0/872 [00:00<?, ? examples/s]"
      ]
     },
     "metadata": {},
     "output_type": "display_data"
    },
    {
     "data": {
      "application/vnd.jupyter.widget-view+json": {
       "model_id": "2d551b6f4c244af48af795b7e2495c3b",
       "version_major": 2,
       "version_minor": 0
      },
      "text/plain": [
       "Map:   0%|          | 0/1821 [00:00<?, ? examples/s]"
      ]
     },
     "metadata": {},
     "output_type": "display_data"
    }
   ],
   "source": [
    "from datasets import load_dataset\n",
    "from transformers import AutoTokenizer, DataCollatorWithPadding\n",
    "\n",
    "sst2_raw_dataset = load_dataset(\"glue\", \"sst2\") \n",
    "checkpoint = \"bert-base-uncased\"\n",
    "tokenizer = AutoTokenizer.from_pretrained(checkpoint)\n",
    "\n",
    "\n",
    "def tokenize_function(example):\n",
    "    return tokenizer(example[\"sentence\"], truncation=True)\n",
    "\n",
    "\n",
    "tokenized_datasets = sst2_raw_dataset.map(tokenize_function, batched=True)\n",
    "data_collator = DataCollatorWithPadding(tokenizer=tokenizer)"
   ]
  },
  {
   "cell_type": "code",
   "execution_count": 29,
   "metadata": {},
   "outputs": [
    {
     "name": "stderr",
     "output_type": "stream",
     "text": [
      "Some weights of the model checkpoint at bert-base-uncased were not used when initializing BertForSequenceClassification: ['cls.predictions.transform.LayerNorm.bias', 'cls.seq_relationship.bias', 'cls.predictions.bias', 'cls.predictions.decoder.weight', 'cls.predictions.transform.LayerNorm.weight', 'cls.seq_relationship.weight', 'cls.predictions.transform.dense.bias', 'cls.predictions.transform.dense.weight']\n",
      "- This IS expected if you are initializing BertForSequenceClassification from the checkpoint of a model trained on another task or with another architecture (e.g. initializing a BertForSequenceClassification model from a BertForPreTraining model).\n",
      "- This IS NOT expected if you are initializing BertForSequenceClassification from the checkpoint of a model that you expect to be exactly identical (initializing a BertForSequenceClassification model from a BertForSequenceClassification model).\n",
      "Some weights of BertForSequenceClassification were not initialized from the model checkpoint at bert-base-uncased and are newly initialized: ['classifier.bias', 'classifier.weight']\n",
      "You should probably TRAIN this model on a down-stream task to be able to use it for predictions and inference.\n"
     ]
    }
   ],
   "source": [
    "from transformers import TrainingArguments, AutoModelForSequenceClassification\n",
    "\n",
    "training_args = TrainingArguments(\"sst2-test-trainer\", evaluation_strategy=\"epoch\") # can add other hyper-parameters here\n",
    "model = AutoModelForSequenceClassification.from_pretrained(checkpoint, num_labels=2)"
   ]
  },
  {
   "cell_type": "code",
   "execution_count": 28,
   "metadata": {},
   "outputs": [],
   "source": [
    "def compute_metrics(eval_preds):\n",
    "    metric = evaluate.load(\"glue\", \"sst2\") # load the applicable metrics of the mrpc dataset in the glue dataset\n",
    "    logits, labels = eval_preds\n",
    "    predictions = np.argmax(logits, axis=-1) # get the predictions from the logits\n",
    "    return metric.compute(predictions=predictions, references=labels) #compute the metrics"
   ]
  },
  {
   "cell_type": "code",
   "execution_count": 30,
   "metadata": {},
   "outputs": [
    {
     "name": "stderr",
     "output_type": "stream",
     "text": [
      "c:\\Users\\joamart\\Anaconda3\\envs\\hfnlp\\lib\\site-packages\\transformers\\optimization.py:407: FutureWarning: This implementation of AdamW is deprecated and will be removed in a future version. Use the PyTorch implementation torch.optim.AdamW instead, or set `no_deprecation_warning=True` to disable this warning\n",
      "  warnings.warn(\n"
     ]
    },
    {
     "data": {
      "application/vnd.jupyter.widget-view+json": {
       "model_id": "b6d9823e09e14ab0bc164bb804580a26",
       "version_major": 2,
       "version_minor": 0
      },
      "text/plain": [
       "  0%|          | 0/25257 [00:00<?, ?it/s]"
      ]
     },
     "metadata": {},
     "output_type": "display_data"
    },
    {
     "name": "stderr",
     "output_type": "stream",
     "text": [
      "You're using a BertTokenizerFast tokenizer. Please note that with a fast tokenizer, using the `__call__` method is faster than using a method to encode the text followed by a call to the `pad` method to get a padded encoding.\n"
     ]
    },
    {
     "name": "stdout",
     "output_type": "stream",
     "text": [
      "{'loss': 0.4321, 'learning_rate': 4.9010175396919665e-05, 'epoch': 0.06}\n",
      "{'loss': 0.3793, 'learning_rate': 4.8020350793839334e-05, 'epoch': 0.12}\n",
      "{'loss': 0.3352, 'learning_rate': 4.7030526190759e-05, 'epoch': 0.18}\n",
      "{'loss': 0.3184, 'learning_rate': 4.6040701587678666e-05, 'epoch': 0.24}\n",
      "{'loss': 0.3096, 'learning_rate': 4.5050876984598335e-05, 'epoch': 0.3}\n",
      "{'loss': 0.3261, 'learning_rate': 4.4061052381518e-05, 'epoch': 0.36}\n",
      "{'loss': 0.3066, 'learning_rate': 4.307122777843766e-05, 'epoch': 0.42}\n",
      "{'loss': 0.2846, 'learning_rate': 4.208140317535733e-05, 'epoch': 0.48}\n",
      "{'loss': 0.2776, 'learning_rate': 4.109157857227699e-05, 'epoch': 0.53}\n",
      "{'loss': 0.3158, 'learning_rate': 4.010175396919666e-05, 'epoch': 0.59}\n",
      "{'loss': 0.284, 'learning_rate': 3.9111929366116324e-05, 'epoch': 0.65}\n",
      "{'loss': 0.2825, 'learning_rate': 3.812210476303599e-05, 'epoch': 0.71}\n",
      "{'loss': 0.2891, 'learning_rate': 3.7132280159955656e-05, 'epoch': 0.77}\n",
      "{'loss': 0.2641, 'learning_rate': 3.614245555687532e-05, 'epoch': 0.83}\n",
      "{'loss': 0.2769, 'learning_rate': 3.515263095379499e-05, 'epoch': 0.89}\n",
      "{'loss': 0.2486, 'learning_rate': 3.4162806350714657e-05, 'epoch': 0.95}\n"
     ]
    },
    {
     "data": {
      "application/vnd.jupyter.widget-view+json": {
       "model_id": "398870c937264afba9c04e971dda5c47",
       "version_major": 2,
       "version_minor": 0
      },
      "text/plain": [
       "  0%|          | 0/109 [00:00<?, ?it/s]"
      ]
     },
     "metadata": {},
     "output_type": "display_data"
    },
    {
     "name": "stdout",
     "output_type": "stream",
     "text": [
      "{'eval_loss': 0.3546741306781769, 'eval_accuracy': 0.9059633027522935, 'eval_runtime': 14.0778, 'eval_samples_per_second': 61.942, 'eval_steps_per_second': 7.743, 'epoch': 1.0}\n",
      "{'loss': 0.2442, 'learning_rate': 3.317298174763432e-05, 'epoch': 1.01}\n",
      "{'loss': 0.1845, 'learning_rate': 3.218315714455399e-05, 'epoch': 1.07}\n",
      "{'loss': 0.1771, 'learning_rate': 3.119333254147365e-05, 'epoch': 1.13}\n",
      "{'loss': 0.1833, 'learning_rate': 3.0203507938393317e-05, 'epoch': 1.19}\n",
      "{'loss': 0.1839, 'learning_rate': 2.9213683335312986e-05, 'epoch': 1.25}\n",
      "{'loss': 0.1898, 'learning_rate': 2.822385873223265e-05, 'epoch': 1.31}\n",
      "{'loss': 0.1774, 'learning_rate': 2.7234034129152314e-05, 'epoch': 1.37}\n",
      "{'loss': 0.1804, 'learning_rate': 2.6244209526071984e-05, 'epoch': 1.43}\n",
      "{'loss': 0.1743, 'learning_rate': 2.5254384922991646e-05, 'epoch': 1.48}\n",
      "{'loss': 0.1653, 'learning_rate': 2.4264560319911315e-05, 'epoch': 1.54}\n",
      "{'loss': 0.1732, 'learning_rate': 2.3274735716830978e-05, 'epoch': 1.6}\n",
      "{'loss': 0.1683, 'learning_rate': 2.2284911113750644e-05, 'epoch': 1.66}\n",
      "{'loss': 0.1916, 'learning_rate': 2.129508651067031e-05, 'epoch': 1.72}\n",
      "{'loss': 0.2076, 'learning_rate': 2.0305261907589976e-05, 'epoch': 1.78}\n",
      "{'loss': 0.174, 'learning_rate': 1.931543730450964e-05, 'epoch': 1.84}\n",
      "{'loss': 0.1676, 'learning_rate': 1.8325612701429307e-05, 'epoch': 1.9}\n",
      "{'loss': 0.1676, 'learning_rate': 1.7335788098348973e-05, 'epoch': 1.96}\n"
     ]
    },
    {
     "data": {
      "application/vnd.jupyter.widget-view+json": {
       "model_id": "ff2e6be8dd394e4a8c9a57890f8b5fa9",
       "version_major": 2,
       "version_minor": 0
      },
      "text/plain": [
       "  0%|          | 0/109 [00:00<?, ?it/s]"
      ]
     },
     "metadata": {},
     "output_type": "display_data"
    },
    {
     "name": "stdout",
     "output_type": "stream",
     "text": [
      "{'eval_loss': 0.42381051182746887, 'eval_accuracy': 0.8979357798165137, 'eval_runtime': 7.8802, 'eval_samples_per_second': 110.657, 'eval_steps_per_second': 13.832, 'epoch': 2.0}\n",
      "{'loss': 0.1525, 'learning_rate': 1.634596349526864e-05, 'epoch': 2.02}\n",
      "{'loss': 0.1063, 'learning_rate': 1.5356138892188305e-05, 'epoch': 2.08}\n",
      "{'loss': 0.1133, 'learning_rate': 1.4366314289107971e-05, 'epoch': 2.14}\n",
      "{'loss': 0.1214, 'learning_rate': 1.3376489686027638e-05, 'epoch': 2.2}\n",
      "{'loss': 0.1172, 'learning_rate': 1.2386665082947303e-05, 'epoch': 2.26}\n",
      "{'loss': 0.1247, 'learning_rate': 1.1396840479866969e-05, 'epoch': 2.32}\n",
      "{'loss': 0.1021, 'learning_rate': 1.0407015876786634e-05, 'epoch': 2.38}\n",
      "{'loss': 0.1192, 'learning_rate': 9.417191273706299e-06, 'epoch': 2.43}\n",
      "{'loss': 0.0999, 'learning_rate': 8.427366670625965e-06, 'epoch': 2.49}\n",
      "{'loss': 0.1095, 'learning_rate': 7.437542067545632e-06, 'epoch': 2.55}\n",
      "{'loss': 0.1064, 'learning_rate': 6.447717464465297e-06, 'epoch': 2.61}\n",
      "{'loss': 0.1236, 'learning_rate': 5.457892861384962e-06, 'epoch': 2.67}\n",
      "{'loss': 0.1117, 'learning_rate': 4.468068258304629e-06, 'epoch': 2.73}\n",
      "{'loss': 0.1107, 'learning_rate': 3.478243655224295e-06, 'epoch': 2.79}\n",
      "{'loss': 0.098, 'learning_rate': 2.4884190521439603e-06, 'epoch': 2.85}\n",
      "{'loss': 0.1072, 'learning_rate': 1.4985944490636262e-06, 'epoch': 2.91}\n",
      "{'loss': 0.1024, 'learning_rate': 5.087698459832917e-07, 'epoch': 2.97}\n"
     ]
    },
    {
     "data": {
      "application/vnd.jupyter.widget-view+json": {
       "model_id": "a218e5f8fa0d4e3482e08b097ae0fe6f",
       "version_major": 2,
       "version_minor": 0
      },
      "text/plain": [
       "  0%|          | 0/109 [00:00<?, ?it/s]"
      ]
     },
     "metadata": {},
     "output_type": "display_data"
    },
    {
     "name": "stdout",
     "output_type": "stream",
     "text": [
      "{'eval_loss': 0.4058356285095215, 'eval_accuracy': 0.9071100917431193, 'eval_runtime': 24.1128, 'eval_samples_per_second': 36.163, 'eval_steps_per_second': 4.52, 'epoch': 3.0}\n",
      "{'train_runtime': 6344.0032, 'train_samples_per_second': 31.849, 'train_steps_per_second': 3.981, 'train_loss': 0.19839191531164607, 'epoch': 3.0}\n"
     ]
    },
    {
     "data": {
      "text/plain": [
       "TrainOutput(global_step=25257, training_loss=0.19839191531164607, metrics={'train_runtime': 6344.0032, 'train_samples_per_second': 31.849, 'train_steps_per_second': 3.981, 'train_loss': 0.19839191531164607, 'epoch': 3.0})"
      ]
     },
     "execution_count": 30,
     "metadata": {},
     "output_type": "execute_result"
    }
   ],
   "source": [
    "trainer = Trainer(\n",
    "    model,\n",
    "    training_args,\n",
    "    train_dataset=tokenized_datasets[\"train\"],\n",
    "    eval_dataset=tokenized_datasets[\"validation\"],\n",
    "    data_collator=data_collator,\n",
    "    tokenizer=tokenizer,\n",
    "    compute_metrics=compute_metrics, # this is new\n",
    ")\n",
    "\n",
    "# trainer.train() -- commented to not make the mistake of training again"
   ]
  },
  {
   "cell_type": "code",
   "execution_count": 41,
   "metadata": {},
   "outputs": [],
   "source": [
    "my_sequences = [\n",
    "    \"I've been waiting for a HuggingFace course my whole life.\",\n",
    "    \"This course is amazing!\",\n",
    "    \"I hate my life\",\n",
    "    \"Why don't they respond, this is frustrating\",\n",
    "    \"This is a sunny day!\",\n",
    "    \"This is a rainy day!\"\n",
    "]\n",
    "\n",
    "batch = tokenizer(my_sequences, padding=True, truncation=True, return_tensors=\"pt\")\n"
   ]
  },
  {
   "cell_type": "code",
   "execution_count": 36,
   "metadata": {},
   "outputs": [],
   "source": [
    "# trainer.model.save_pretrained(\"sst2-finetuned-bert-jota\")"
   ]
  },
  {
   "cell_type": "code",
   "execution_count": 39,
   "metadata": {},
   "outputs": [],
   "source": [
    "my_model = AutoModelForSequenceClassification.from_pretrained(\"sst2-finetuned-bert-jota\")\n",
    "\n",
    "outputs = my_model(**batch)\n",
    "predictions = outputs.logits.argmax(-1)"
   ]
  },
  {
   "cell_type": "code",
   "execution_count": 40,
   "metadata": {},
   "outputs": [
    {
     "data": {
      "text/plain": [
       "tensor([1, 1, 0, 0, 1, 0])"
      ]
     },
     "execution_count": 40,
     "metadata": {},
     "output_type": "execute_result"
    }
   ],
   "source": [
    "predictions"
   ]
  }
 ],
 "metadata": {
  "kernelspec": {
   "display_name": "hfnlp",
   "language": "python",
   "name": "python3"
  },
  "language_info": {
   "codemirror_mode": {
    "name": "ipython",
    "version": 3
   },
   "file_extension": ".py",
   "mimetype": "text/x-python",
   "name": "python",
   "nbconvert_exporter": "python",
   "pygments_lexer": "ipython3",
   "version": "3.9.16"
  },
  "orig_nbformat": 4
 },
 "nbformat": 4,
 "nbformat_minor": 2
}
